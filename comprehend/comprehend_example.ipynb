{
 "cells": [
  {
   "cell_type": "markdown",
   "metadata": {},
   "source": [
    "### Amazon Comprehend\n",
    "\n",
    "In this notebook, we will take a look at NLP service called Comprehend that can be used to find insights and relationships in text. Comprehend can detect dominant language, entities, key phrases and sentiment in provided text, which will be shown in the following examples.\n",
    "\n",
    "To start using Comprehend API, we need to initialize client:"
   ]
  },
  {
   "cell_type": "code",
   "execution_count": 2,
   "metadata": {},
   "outputs": [],
   "source": [
    "import boto3\n",
    "from pprint import pprint\n",
    "\n",
    "session = boto3.session.Session()\n",
    "comprehend_client = session.client('comprehend')"
   ]
  },
  {
   "cell_type": "markdown",
   "metadata": {},
   "source": [
    "#### Detect dominant language\n",
    "\n",
    "In our first task, we will try to detect dominant language of several texts. In the first example, we will try to analyze following English text:"
   ]
  },
  {
   "cell_type": "code",
   "execution_count": 3,
   "metadata": {},
   "outputs": [
    {
     "name": "stdout",
     "output_type": "stream",
     "text": [
      "{'Languages': [{'LanguageCode': 'en', 'Score': 0.9784398674964905}],\n",
      " 'ResponseMetadata': {'HTTPHeaders': {'connection': 'keep-alive',\n",
      "                                      'content-length': '64',\n",
      "                                      'content-type': 'application/x-amz-json-1.1',\n",
      "                                      'date': 'Wed, 28 Mar 2018 22:00:05 GMT',\n",
      "                                      'x-amzn-requestid': '5f76f599-32d3-11e8-9e50-91b788397d9c'},\n",
      "                      'HTTPStatusCode': 200,\n",
      "                      'RequestId': '5f76f599-32d3-11e8-9e50-91b788397d9c',\n",
      "                      'RetryAttempts': 0}}\n"
     ]
    }
   ],
   "source": [
    "text = \"\"\"\n",
    "Amazon Comprehend is a natural language processing (NLP) service\n",
    "that uses machine learning to find insights and relationships in text.\n",
    "Amazon Comprehend identifies the language of the text;\n",
    "extracts key phrases, places, people, brands, or events;\n",
    "understands how positive or negative the text is;\n",
    "and automatically organizes a collection of text files by topic.\n",
    "\"\"\"\n",
    "\n",
    "response = comprehend_client.detect_dominant_language(\n",
    "    Text=text\n",
    ")\n",
    "\n",
    "pprint(response)"
   ]
  },
  {
   "cell_type": "markdown",
   "metadata": {},
   "source": [
    "In the response, we get a list of languages with corresponding score (level of confidence). In first example, we can see that Comprehend is almost sure that provided text is English.\n",
    "\n",
    "Let's now try to detect language for a text written in both Polish and English."
   ]
  },
  {
   "cell_type": "code",
   "execution_count": 4,
   "metadata": {},
   "outputs": [
    {
     "name": "stdout",
     "output_type": "stream",
     "text": [
      "{'Languages': [{'LanguageCode': 'en', 'Score': 0.7801410555839539},\n",
      "               {'LanguageCode': 'pl', 'Score': 0.10633250325918198}],\n",
      " 'ResponseMetadata': {'HTTPHeaders': {'connection': 'keep-alive',\n",
      "                                      'content-length': '114',\n",
      "                                      'content-type': 'application/x-amz-json-1.1',\n",
      "                                      'date': 'Wed, 28 Mar 2018 22:00:06 GMT',\n",
      "                                      'x-amzn-requestid': '5fb2ed9a-32d3-11e8-b48a-9f02d80b9bc8'},\n",
      "                      'HTTPStatusCode': 200,\n",
      "                      'RequestId': '5fb2ed9a-32d3-11e8-b48a-9f02d80b9bc8',\n",
      "                      'RetryAttempts': 0}}\n"
     ]
    }
   ],
   "source": [
    "text = \"\"\"\n",
    "Potrafi identyfikować język podanego tekstu;\n",
    "extracts key phrases, places, people, brands, or events;\n",
    "understands how positive or negative the text is;\n",
    "and automatically organizes a collection of text files by topic.\n",
    "\"\"\"\n",
    "\n",
    "response = comprehend_client.detect_dominant_language(\n",
    "    Text=text\n",
    ")\n",
    "\n",
    "pprint(response)"
   ]
  },
  {
   "cell_type": "markdown",
   "metadata": {},
   "source": [
    "In this example, Comprehend is still fairly sure that dominant language in provided text is English, but it also includes Polish in the response as one of the possibilites."
   ]
  },
  {
   "cell_type": "markdown",
   "metadata": {},
   "source": [
    "#### Detect entities\n",
    "\n",
    "Next we will take a look at `detect_entities` method, that allows us to detect entities such as `person`, `localization`, `organization`, `commercial_item`, `event`, `date`, `quantity` and `title`. At the time of writing, Comprehend supports detecting entities in Spanish and English texts.\n",
    "\n",
    "In our example, we will analyze text from following article: [Rare pics of 'The Beatles' sold for ₹2.32 crore at auction](https://www.inshorts.com/en/news/rare-pics-of-the-beatles-sold-for-%E2%82%B9232-crore-at-auction-1521995431851)."
   ]
  },
  {
   "cell_type": "code",
   "execution_count": 5,
   "metadata": {},
   "outputs": [
    {
     "name": "stdout",
     "output_type": "stream",
     "text": [
      "12\n",
      "{'Entities': [{'BeginOffset': 33,\n",
      "               'EndOffset': 44,\n",
      "               'Score': 0.9071453213691711,\n",
      "               'Text': 'The Beatles',\n",
      "               'Type': 'ORGANIZATION'},\n",
      "              {'BeginOffset': 64,\n",
      "               'EndOffset': 75,\n",
      "               'Score': 0.9864733815193176,\n",
      "               'Text': '₹2.32 crore',\n",
      "               'Type': 'QUANTITY'},\n",
      "              {'BeginOffset': 77,\n",
      "               'EndOffset': 85,\n",
      "               'Score': 0.9995929002761841,\n",
      "               'Text': '£253,200',\n",
      "               'Type': 'QUANTITY'},\n",
      "              {'BeginOffset': 104,\n",
      "               'EndOffset': 111,\n",
      "               'Score': 0.9942112565040588,\n",
      "               'Text': 'England',\n",
      "               'Type': 'LOCATION'},\n",
      "              {'BeginOffset': 127,\n",
      "               'EndOffset': 160,\n",
      "               'Score': 0.8907501101493835,\n",
      "               'Text': 'over 350 previously unseen photos',\n",
      "               'Type': 'QUANTITY'},\n",
      "              {'BeginOffset': 206,\n",
      "               'EndOffset': 219,\n",
      "               'Score': 0.9997715353965759,\n",
      "               'Text': 'Mike Mitchell',\n",
      "               'Type': 'PERSON'},\n",
      "              {'BeginOffset': 229,\n",
      "               'EndOffset': 231,\n",
      "               'Score': 0.9392988085746765,\n",
      "               'Text': '18',\n",
      "               'Type': 'QUANTITY'},\n",
      "              {'BeginOffset': 271,\n",
      "               'EndOffset': 275,\n",
      "               'Score': 0.999433696269989,\n",
      "               'Text': '1964',\n",
      "               'Type': 'DATE'},\n",
      "              {'BeginOffset': 286,\n",
      "               'EndOffset': 300,\n",
      "               'Score': 0.8974745273590088,\n",
      "               'Text': 'first concerts',\n",
      "               'Type': 'QUANTITY'},\n",
      "              {'BeginOffset': 304,\n",
      "               'EndOffset': 317,\n",
      "               'Score': 0.9644245505332947,\n",
      "               'Text': 'Washington DC',\n",
      "               'Type': 'LOCATION'},\n",
      "              {'BeginOffset': 322,\n",
      "               'EndOffset': 331,\n",
      "               'Score': 0.9798056483268738,\n",
      "               'Text': 'Baltimore',\n",
      "               'Type': 'LOCATION'},\n",
      "              {'BeginOffset': 335,\n",
      "               'EndOffset': 338,\n",
      "               'Score': 0.9966261386871338,\n",
      "               'Text': 'USA',\n",
      "               'Type': 'LOCATION'}],\n",
      " 'ResponseMetadata': {'HTTPHeaders': {'connection': 'keep-alive',\n",
      "                                      'content-length': '1228',\n",
      "                                      'content-type': 'application/x-amz-json-1.1',\n",
      "                                      'date': 'Wed, 28 Mar 2018 22:00:07 GMT',\n",
      "                                      'x-amzn-requestid': '60462cba-32d3-11e8-9d52-a71b4437c023'},\n",
      "                      'HTTPStatusCode': 200,\n",
      "                      'RequestId': '60462cba-32d3-11e8-9d52-a71b4437c023',\n",
      "                      'RetryAttempts': 0}}\n"
     ]
    }
   ],
   "source": [
    "text = \"\"\"\n",
    "Rare pictures of the rock band 'The Beatles' has been sold for ₹2.32 crore (£253,200) at an auction in England.\n",
    "They included over 350 previously unseen photos of the band.\n",
    "The images shot by photographer Mike Mitchell, who was 18 at the time,\n",
    "show the band arriving in 1964 for their first concerts in Washington DC and Baltimore in USA.\n",
    "\"\"\"\n",
    "\n",
    "response = comprehend_client.detect_entities(\n",
    "    Text=text,\n",
    "    LanguageCode='en'\n",
    ")\n",
    "\n",
    "print(len(response['Entities']))\n",
    "pprint(response)"
   ]
  },
  {
   "cell_type": "markdown",
   "metadata": {},
   "source": [
    "In the response, we get a list of all detected entities, confidence score, type as well as indicies of starting and ending characters."
   ]
  },
  {
   "cell_type": "markdown",
   "metadata": {},
   "source": [
    "#### Detect key phrases\n",
    "\n",
    "In our next example, we will try out `detect_key_phrases` method, which can be used, as name suggests, to identify key phrases in provided text. At the time of writing, Comprehend supports detecting key phrases in Spanish and English texts.\n",
    "\n",
    "For testing, we will analyze part of the following article: [Messaging Patterns for Event-Driven Microservices](https://content.pivotal.io/blog/messaging-patterns-for-event-driven-microservices)."
   ]
  },
  {
   "cell_type": "code",
   "execution_count": 8,
   "metadata": {},
   "outputs": [
    {
     "name": "stdout",
     "output_type": "stream",
     "text": [
      "18\n",
      "{'KeyPhrases': [{'BeginOffset': 4,\n",
      "                 'EndOffset': 32,\n",
      "                 'Score': 0.9916486740112305,\n",
      "                 'Text': 'a microservices architecture'},\n",
      "                {'BeginOffset': 34,\n",
      "                 'EndOffset': 51,\n",
      "                 'Score': 0.9988448619842529,\n",
      "                 'Text': 'each microservice'},\n",
      "                {'BeginOffset': 67,\n",
      "                 'EndOffset': 102,\n",
      "                 'Score': 0.9816235303878784,\n",
      "                 'Text': 'an atomic and self-sufficient piece'},\n",
      "                {'BeginOffset': 106,\n",
      "                 'EndOffset': 114,\n",
      "                 'Score': 0.9996533393859863,\n",
      "                 'Text': 'software'},\n",
      "                {'BeginOffset': 129,\n",
      "                 'EndOffset': 139,\n",
      "                 'Score': 0.9893721342086792,\n",
      "                 'Text': 'a use case'},\n",
      "                {'BeginOffset': 169,\n",
      "                 'EndOffset': 183,\n",
      "                 'Score': 0.960514485836029,\n",
      "                 'Text': 'multiple calls'},\n",
      "                {'BeginOffset': 187,\n",
      "                 'EndOffset': 214,\n",
      "                 'Score': 0.9926174283027649,\n",
      "                 'Text': 'these single responsibility'},\n",
      "                {'BeginOffset': 216,\n",
      "                 'EndOffset': 237,\n",
      "                 'Score': 0.7499642968177795,\n",
      "                 'Text': 'distributed endpoints'},\n",
      "                {'BeginOffset': 248,\n",
      "                 'EndOffset': 282,\n",
      "                 'Score': 0.9723513722419739,\n",
      "                 'Text': 'synchronous request-response calls'},\n",
      "                {'BeginOffset': 301,\n",
      "                 'EndOffset': 314,\n",
      "                 'Score': 0.9912283420562744,\n",
      "                 'Text': 'the requester'},\n",
      "                {'BeginOffset': 323,\n",
      "                 'EndOffset': 344,\n",
      "                 'Score': 0.9987581968307495,\n",
      "                 'Text': 'an immediate response'},\n",
      "                {'BeginOffset': 346,\n",
      "                 'EndOffset': 366,\n",
      "                 'Score': 0.9927246570587158,\n",
      "                 'Text': 'integration patterns'},\n",
      "                {'BeginOffset': 376,\n",
      "                 'EndOffset': 411,\n",
      "                 'Score': 0.8837372660636902,\n",
      "                 'Text': 'eventing and asynchronous messaging'},\n",
      "                {'BeginOffset': 420,\n",
      "                 'EndOffset': 454,\n",
      "                 'Score': 0.9663569331169128,\n",
      "                 'Text': 'maximum scalability and resiliency'},\n",
      "                {'BeginOffset': 464,\n",
      "                 'EndOffset': 473,\n",
      "                 'Score': 0.9987600445747375,\n",
      "                 'Text': 'the world'},\n",
      "                {'BeginOffset': 476,\n",
      "                 'EndOffset': 503,\n",
      "                 'Score': 0.8596245646476746,\n",
      "                 'Text': 'most scalable architectures'},\n",
      "                {'BeginOffset': 512,\n",
      "                 'EndOffset': 532,\n",
      "                 'Score': 0.9861778616905212,\n",
      "                 'Text': 'Linkedin and Netflix'},\n",
      "                {'BeginOffset': 546,\n",
      "                 'EndOffset': 582,\n",
      "                 'Score': 0.9858731031417847,\n",
      "                 'Text': 'event-driven, asynchronous messaging'}],\n",
      " 'ResponseMetadata': {'HTTPHeaders': {'connection': 'keep-alive',\n",
      "                                      'content-length': '1732',\n",
      "                                      'content-type': 'application/x-amz-json-1.1',\n",
      "                                      'date': 'Wed, 28 Mar 2018 22:07:06 GMT',\n",
      "                                      'x-amzn-requestid': '5a44e455-32d4-11e8-86e2-5d3ea0a56291'},\n",
      "                      'HTTPStatusCode': 200,\n",
      "                      'RequestId': '5a44e455-32d4-11e8-86e2-5d3ea0a56291',\n",
      "                      'RetryAttempts': 0}}\n"
     ]
    }
   ],
   "source": [
    "text = \"\"\"\n",
    "In a microservices architecture, each microservice is designed as an atomic and self-sufficient piece of software.\n",
    "Implementing a use case will often require composing multiple calls to these single responsibility,\n",
    "distributed endpoints. Although synchronous request-response calls are required when the requester\n",
    "expects an immediate response, integration patterns based on eventing and asynchronous messaging\n",
    "provide maximum scalability and resiliency. Some of the world's most scalable architectures\n",
    "such as Linkedin and Netflix are based on event-driven, asynchronous messaging.\n",
    "\"\"\"\n",
    "\n",
    "response = comprehend_client.detect_key_phrases(\n",
    "    Text=text,\n",
    "    LanguageCode='en'\n",
    ")\n",
    "\n",
    "print(len(response['KeyPhrases']))\n",
    "pprint(response)"
   ]
  },
  {
   "cell_type": "markdown",
   "metadata": {},
   "source": [
    "In the response, we get a list of all detected key phrases, confidence score, type as well as indicies of starting and ending characters."
   ]
  },
  {
   "cell_type": "markdown",
   "metadata": {},
   "source": [
    "#### Detect sentiment - positive review\n",
    "\n",
    "Last method covered in this tutorial will be `detect_sentiment`. At the time of writing, Comprehend supports detecting sentiments in Spanish and English texts. \n",
    "\n",
    "As first test of `detect_sentiment`, we will analyze a positive review of restaurant from [Zomato](https://www.zomato.com/pl/warszawa/tandoor-%C5%9Br%C3%B3dmie%C5%9Bcie-po%C5%82udniowe/reviews)"
   ]
  },
  {
   "cell_type": "code",
   "execution_count": 9,
   "metadata": {},
   "outputs": [
    {
     "name": "stdout",
     "output_type": "stream",
     "text": [
      "{'ResponseMetadata': {'HTTPHeaders': {'connection': 'keep-alive',\n",
      "                                      'content-length': '164',\n",
      "                                      'content-type': 'application/x-amz-json-1.1',\n",
      "                                      'date': 'Wed, 28 Mar 2018 22:16:20 GMT',\n",
      "                                      'x-amzn-requestid': 'a4597911-32d5-11e8-ad19-63ebbbebc655'},\n",
      "                      'HTTPStatusCode': 200,\n",
      "                      'RequestId': 'a4597911-32d5-11e8-ad19-63ebbbebc655',\n",
      "                      'RetryAttempts': 0},\n",
      " 'Sentiment': 'POSITIVE',\n",
      " 'SentimentScore': {'Mixed': 0.021178914234042168,\n",
      "                    'Negative': 0.002122301608324051,\n",
      "                    'Neutral': 0.008368930779397488,\n",
      "                    'Positive': 0.968329906463623}}\n"
     ]
    }
   ],
   "source": [
    "text = \"\"\"\n",
    "Called in tonight as it was so near to where we were staying....staff really attentive\n",
    "and friendly...place clean and inviting...great choices on the menu...food was so tasty,\n",
    "meat really tender...and definitely the best mojito in Warsaw...will be back....returned\n",
    "on our final night in Warsaw and was not disappointed...the meals were once again\n",
    "gorgeous..staff so friendly and helpful.\n",
    "\"\"\"\n",
    "\n",
    "response = comprehend_client.detect_sentiment(\n",
    "    Text=text,\n",
    "    LanguageCode='en'\n",
    ")\n",
    "\n",
    "pprint(response)"
   ]
  },
  {
   "cell_type": "markdown",
   "metadata": {},
   "source": [
    "As we can see, Comprehend didn't have any problems with correctly identifying provided review as very positive (over 95% of confidence score).\n",
    "\n",
    "Now, we will try how it will handle review that isn't obviously positive or negative. As an example, we will once again use a review of restaurant from [TripAdvisor](https://pl.tripadvisor.com/Restaurant_Review-g274772-d1749958-Reviews-Restauracja_Starka-Krakow_Lesser_Poland_Province_Southern_Poland.html)."
   ]
  },
  {
   "cell_type": "code",
   "execution_count": 10,
   "metadata": {},
   "outputs": [
    {
     "name": "stdout",
     "output_type": "stream",
     "text": [
      "{'ResponseMetadata': {'HTTPHeaders': {'connection': 'keep-alive',\n",
      "                                      'content-length': '159',\n",
      "                                      'content-type': 'application/x-amz-json-1.1',\n",
      "                                      'date': 'Wed, 28 Mar 2018 22:23:37 GMT',\n",
      "                                      'x-amzn-requestid': 'a8d1ec98-32d6-11e8-bb31-e118196dfed7'},\n",
      "                      'HTTPStatusCode': 200,\n",
      "                      'RequestId': 'a8d1ec98-32d6-11e8-bb31-e118196dfed7',\n",
      "                      'RetryAttempts': 0},\n",
      " 'Sentiment': 'MIXED',\n",
      " 'SentimentScore': {'Mixed': 0.45759281516075134,\n",
      "                    'Negative': 0.14617452025413513,\n",
      "                    'Neutral': 0.04490724578499794,\n",
      "                    'Positive': 0.3513253629207611}}\n"
     ]
    }
   ],
   "source": [
    "text = \"\"\"\n",
    "4 of us - were going to book this for an evening meal but they had no reservations available.\n",
    "However we did have lunch. It was just ok - nothing really to write home about.\n",
    "We felt as if the staff thought we should be thankful that they found a table for us to have lunch;\n",
    "they were not friendly. We were given a complementary vodka which was appreciated and the reason\n",
    "for our average score. There are better places and thankfully we found them\n",
    "\"\"\"\n",
    "\n",
    "response = comprehend_client.detect_sentiment(\n",
    "    Text=text,\n",
    "    LanguageCode='en'\n",
    ")\n",
    "\n",
    "pprint(response)"
   ]
  },
  {
   "cell_type": "markdown",
   "metadata": {},
   "source": [
    "In this example, we can notice that Comprehend was a bit less sure with sentiment detection, and while qualifying review as `MIXED`, it also assigned quite high score for `POSITIVE` which is a bit surprising in this case."
   ]
  },
  {
   "cell_type": "code",
   "execution_count": null,
   "metadata": {},
   "outputs": [],
   "source": []
  }
 ],
 "metadata": {
  "kernelspec": {
   "display_name": "Python 3",
   "language": "python",
   "name": "python3"
  },
  "language_info": {
   "codemirror_mode": {
    "name": "ipython",
    "version": 3
   },
   "file_extension": ".py",
   "mimetype": "text/x-python",
   "name": "python",
   "nbconvert_exporter": "python",
   "pygments_lexer": "ipython3",
   "version": "3.6.4"
  }
 },
 "nbformat": 4,
 "nbformat_minor": 2
}
