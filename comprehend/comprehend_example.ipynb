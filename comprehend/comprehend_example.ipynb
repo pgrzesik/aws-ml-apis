{
 "cells": [
  {
   "cell_type": "markdown",
   "metadata": {},
   "source": [
    "### Amazon Comprehend\n",
    "\n",
    "In this notebook, we will take a look at NLP service called Comprehend that can be used to find insights and relationships in text. Comprehend can detect dominant language, entities, key phrases and sentiment in provided text.\n",
    "\n",
    "To start using Comprehend API, we need to initialize client:"
   ]
  },
  {
   "cell_type": "code",
   "execution_count": 1,
   "metadata": {},
   "outputs": [],
   "source": [
    "import boto3\n",
    "from pprint import pprint\n",
    "\n",
    "session = boto3.session.Session()\n",
    "comprehend_client = session.client('comprehend')"
   ]
  },
  {
   "cell_type": "markdown",
   "metadata": {},
   "source": [
    "#### Detect dominant language\n",
    "\n",
    "In our first task, we will try to detect dominant language of several texts. In the first example, we will try to analyze following English text:"
   ]
  },
  {
   "cell_type": "code",
   "execution_count": 2,
   "metadata": {},
   "outputs": [
    {
     "name": "stdout",
     "output_type": "stream",
     "text": [
      "{'Languages': [{'LanguageCode': 'en', 'Score': 0.9784398674964905}],\n",
      " 'ResponseMetadata': {'HTTPHeaders': {'connection': 'keep-alive',\n",
      "                                      'content-length': '64',\n",
      "                                      'content-type': 'application/x-amz-json-1.1',\n",
      "                                      'date': 'Sun, 25 Mar 2018 21:00:51 GMT',\n",
      "                                      'x-amzn-requestid': '99ed77ec-306f-11e8-a4f8-cd2162c514fd'},\n",
      "                      'HTTPStatusCode': 200,\n",
      "                      'RequestId': '99ed77ec-306f-11e8-a4f8-cd2162c514fd',\n",
      "                      'RetryAttempts': 0}}\n"
     ]
    }
   ],
   "source": [
    "text = \"\"\"\n",
    "Amazon Comprehend is a natural language processing (NLP) service\n",
    "that uses machine learning to find insights and relationships in text.\n",
    "Amazon Comprehend identifies the language of the text;\n",
    "extracts key phrases, places, people, brands, or events;\n",
    "understands how positive or negative the text is;\n",
    "and automatically organizes a collection of text files by topic.\n",
    "\"\"\"\n",
    "\n",
    "response = comprehend_client.detect_dominant_language(\n",
    "    Text=text\n",
    ")\n",
    "\n",
    "pprint(response)"
   ]
  },
  {
   "cell_type": "markdown",
   "metadata": {},
   "source": [
    "In the response, we get a list of languages with corresponding score (level of confidence). In first example, we can see that Comprehend is almost sure that provided text is English.\n",
    "\n",
    "Let's now try to detect language for a text written in both Polish and English."
   ]
  },
  {
   "cell_type": "code",
   "execution_count": 8,
   "metadata": {},
   "outputs": [
    {
     "name": "stdout",
     "output_type": "stream",
     "text": [
      "{'Languages': [{'LanguageCode': 'en', 'Score': 0.7801410555839539},\n",
      "               {'LanguageCode': 'pl', 'Score': 0.10633250325918198}],\n",
      " 'ResponseMetadata': {'HTTPHeaders': {'connection': 'keep-alive',\n",
      "                                      'content-length': '114',\n",
      "                                      'content-type': 'application/x-amz-json-1.1',\n",
      "                                      'date': 'Sun, 25 Mar 2018 21:05:31 GMT',\n",
      "                                      'x-amzn-requestid': '40eb6883-3070-11e8-9d52-a71b4437c023'},\n",
      "                      'HTTPStatusCode': 200,\n",
      "                      'RequestId': '40eb6883-3070-11e8-9d52-a71b4437c023',\n",
      "                      'RetryAttempts': 0}}\n"
     ]
    }
   ],
   "source": [
    "text = \"\"\"\n",
    "Potrafi identyfikować język podanego tekstu;\n",
    "extracts key phrases, places, people, brands, or events;\n",
    "understands how positive or negative the text is;\n",
    "and automatically organizes a collection of text files by topic.\n",
    "\"\"\"\n",
    "\n",
    "response = comprehend_client.detect_dominant_language(\n",
    "    Text=text\n",
    ")\n",
    "\n",
    "pprint(response)"
   ]
  },
  {
   "cell_type": "markdown",
   "metadata": {},
   "source": [
    "In this example, Comprehend is still fairly sure that dominant language in provided text is English, but it also includes Polish in the response as one of the possibilites."
   ]
  },
  {
   "cell_type": "code",
   "execution_count": null,
   "metadata": {},
   "outputs": [],
   "source": []
  }
 ],
 "metadata": {
  "kernelspec": {
   "display_name": "Python 3",
   "language": "python",
   "name": "python3"
  },
  "language_info": {
   "codemirror_mode": {
    "name": "ipython",
    "version": 3
   },
   "file_extension": ".py",
   "mimetype": "text/x-python",
   "name": "python",
   "nbconvert_exporter": "python",
   "pygments_lexer": "ipython3",
   "version": "3.6.4"
  }
 },
 "nbformat": 4,
 "nbformat_minor": 2
}
