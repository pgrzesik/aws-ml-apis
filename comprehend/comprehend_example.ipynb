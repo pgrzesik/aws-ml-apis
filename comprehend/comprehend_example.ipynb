{
 "cells": [
  {
   "cell_type": "markdown",
   "metadata": {},
   "source": [
    "### Amazon Comprehend\n",
    "\n",
    "In this notebook, we will take a look at NLP service called Comprehend that can be used to find insights and relationships in text. Comprehend can detect dominant language, entities, key phrases and sentiment in provided text.\n",
    "\n",
    "To start using Comprehend API, we need to initialize client:"
   ]
  },
  {
   "cell_type": "code",
   "execution_count": 1,
   "metadata": {},
   "outputs": [],
   "source": [
    "import boto3\n",
    "from pprint import pprint\n",
    "\n",
    "session = boto3.session.Session()\n",
    "comprehend_client = session.client('comprehend')"
   ]
  },
  {
   "cell_type": "markdown",
   "metadata": {},
   "source": [
    "#### Detect dominant language\n",
    "\n",
    "In our first task, we will try to detect dominant language of several texts. In the first example, we will try to analyze following English text:"
   ]
  },
  {
   "cell_type": "code",
   "execution_count": 2,
   "metadata": {},
   "outputs": [
    {
     "name": "stdout",
     "output_type": "stream",
     "text": [
      "{'Languages': [{'LanguageCode': 'en', 'Score': 0.9784398674964905}],\n",
      " 'ResponseMetadata': {'HTTPHeaders': {'connection': 'keep-alive',\n",
      "                                      'content-length': '64',\n",
      "                                      'content-type': 'application/x-amz-json-1.1',\n",
      "                                      'date': 'Sun, 25 Mar 2018 21:00:51 GMT',\n",
      "                                      'x-amzn-requestid': '99ed77ec-306f-11e8-a4f8-cd2162c514fd'},\n",
      "                      'HTTPStatusCode': 200,\n",
      "                      'RequestId': '99ed77ec-306f-11e8-a4f8-cd2162c514fd',\n",
      "                      'RetryAttempts': 0}}\n"
     ]
    }
   ],
   "source": [
    "text = \"\"\"\n",
    "Amazon Comprehend is a natural language processing (NLP) service\n",
    "that uses machine learning to find insights and relationships in text.\n",
    "Amazon Comprehend identifies the language of the text;\n",
    "extracts key phrases, places, people, brands, or events;\n",
    "understands how positive or negative the text is;\n",
    "and automatically organizes a collection of text files by topic.\n",
    "\"\"\"\n",
    "\n",
    "response = comprehend_client.detect_dominant_language(\n",
    "    Text=text\n",
    ")\n",
    "\n",
    "pprint(response)"
   ]
  },
  {
   "cell_type": "markdown",
   "metadata": {},
   "source": [
    "In the response, we get a list of languages with corresponding score (level of confidence). In first example, we can see that Comprehend is almost sure that provided text is English.\n",
    "\n",
    "Let's now try to detect language for a text written in both Polish and English."
   ]
  },
  {
   "cell_type": "code",
   "execution_count": 8,
   "metadata": {},
   "outputs": [
    {
     "name": "stdout",
     "output_type": "stream",
     "text": [
      "{'Languages': [{'LanguageCode': 'en', 'Score': 0.7801410555839539},\n",
      "               {'LanguageCode': 'pl', 'Score': 0.10633250325918198}],\n",
      " 'ResponseMetadata': {'HTTPHeaders': {'connection': 'keep-alive',\n",
      "                                      'content-length': '114',\n",
      "                                      'content-type': 'application/x-amz-json-1.1',\n",
      "                                      'date': 'Sun, 25 Mar 2018 21:05:31 GMT',\n",
      "                                      'x-amzn-requestid': '40eb6883-3070-11e8-9d52-a71b4437c023'},\n",
      "                      'HTTPStatusCode': 200,\n",
      "                      'RequestId': '40eb6883-3070-11e8-9d52-a71b4437c023',\n",
      "                      'RetryAttempts': 0}}\n"
     ]
    }
   ],
   "source": [
    "text = \"\"\"\n",
    "Potrafi identyfikować język podanego tekstu;\n",
    "extracts key phrases, places, people, brands, or events;\n",
    "understands how positive or negative the text is;\n",
    "and automatically organizes a collection of text files by topic.\n",
    "\"\"\"\n",
    "\n",
    "response = comprehend_client.detect_dominant_language(\n",
    "    Text=text\n",
    ")\n",
    "\n",
    "pprint(response)"
   ]
  },
  {
   "cell_type": "markdown",
   "metadata": {},
   "source": [
    "In this example, Comprehend is still fairly sure that dominant language in provided text is English, but it also includes Polish in the response as one of the possibilites."
   ]
  },
  {
   "cell_type": "markdown",
   "metadata": {},
   "source": [
    "#### Detect entities\n",
    "\n",
    "Next we will take a look at `detect_entities` method, that allows us to detect entities such as `person`, `localization`, `organization`, `commercial_item`, `event`, `date`, `quantity` and `title`. At the time of writing, Comprehend supports detecting entities in Spanish and English texts.\n",
    "\n",
    "In our example, we will analyze text from following article: [Rare pics of 'The Beatles' sold for ₹2.32 crore at auction](https://www.inshorts.com/en/news/rare-pics-of-the-beatles-sold-for-%E2%82%B9232-crore-at-auction-1521995431851)."
   ]
  },
  {
   "cell_type": "code",
   "execution_count": 11,
   "metadata": {},
   "outputs": [
    {
     "name": "stdout",
     "output_type": "stream",
     "text": [
      "12\n",
      "{'Entities': [{'BeginOffset': 33,\n",
      "               'EndOffset': 44,\n",
      "               'Score': 0.9071453213691711,\n",
      "               'Text': 'The Beatles',\n",
      "               'Type': 'ORGANIZATION'},\n",
      "              {'BeginOffset': 64,\n",
      "               'EndOffset': 75,\n",
      "               'Score': 0.9864733815193176,\n",
      "               'Text': '₹2.32 crore',\n",
      "               'Type': 'QUANTITY'},\n",
      "              {'BeginOffset': 77,\n",
      "               'EndOffset': 85,\n",
      "               'Score': 0.9995929002761841,\n",
      "               'Text': '£253,200',\n",
      "               'Type': 'QUANTITY'},\n",
      "              {'BeginOffset': 104,\n",
      "               'EndOffset': 111,\n",
      "               'Score': 0.9942112565040588,\n",
      "               'Text': 'England',\n",
      "               'Type': 'LOCATION'},\n",
      "              {'BeginOffset': 127,\n",
      "               'EndOffset': 160,\n",
      "               'Score': 0.8907501101493835,\n",
      "               'Text': 'over 350 previously unseen photos',\n",
      "               'Type': 'QUANTITY'},\n",
      "              {'BeginOffset': 206,\n",
      "               'EndOffset': 219,\n",
      "               'Score': 0.9997715353965759,\n",
      "               'Text': 'Mike Mitchell',\n",
      "               'Type': 'PERSON'},\n",
      "              {'BeginOffset': 229,\n",
      "               'EndOffset': 231,\n",
      "               'Score': 0.9392988085746765,\n",
      "               'Text': '18',\n",
      "               'Type': 'QUANTITY'},\n",
      "              {'BeginOffset': 271,\n",
      "               'EndOffset': 275,\n",
      "               'Score': 0.999433696269989,\n",
      "               'Text': '1964',\n",
      "               'Type': 'DATE'},\n",
      "              {'BeginOffset': 286,\n",
      "               'EndOffset': 300,\n",
      "               'Score': 0.8974745273590088,\n",
      "               'Text': 'first concerts',\n",
      "               'Type': 'QUANTITY'},\n",
      "              {'BeginOffset': 304,\n",
      "               'EndOffset': 317,\n",
      "               'Score': 0.9644245505332947,\n",
      "               'Text': 'Washington DC',\n",
      "               'Type': 'LOCATION'},\n",
      "              {'BeginOffset': 322,\n",
      "               'EndOffset': 331,\n",
      "               'Score': 0.9798056483268738,\n",
      "               'Text': 'Baltimore',\n",
      "               'Type': 'LOCATION'},\n",
      "              {'BeginOffset': 335,\n",
      "               'EndOffset': 338,\n",
      "               'Score': 0.9966261386871338,\n",
      "               'Text': 'USA',\n",
      "               'Type': 'LOCATION'}],\n",
      " 'ResponseMetadata': {'HTTPHeaders': {'connection': 'keep-alive',\n",
      "                                      'content-length': '1228',\n",
      "                                      'content-type': 'application/x-amz-json-1.1',\n",
      "                                      'date': 'Sun, 25 Mar 2018 21:19:29 GMT',\n",
      "                                      'x-amzn-requestid': '34072a9d-3072-11e8-8ae3-a9e7a3481d40'},\n",
      "                      'HTTPStatusCode': 200,\n",
      "                      'RequestId': '34072a9d-3072-11e8-8ae3-a9e7a3481d40',\n",
      "                      'RetryAttempts': 0}}\n"
     ]
    }
   ],
   "source": [
    "text = \"\"\"\n",
    "Rare pictures of the rock band 'The Beatles' has been sold for ₹2.32 crore (£253,200) at an auction in England.\n",
    "They included over 350 previously unseen photos of the band.\n",
    "The images shot by photographer Mike Mitchell, who was 18 at the time,\n",
    "show the band arriving in 1964 for their first concerts in Washington DC and Baltimore in USA.\n",
    "\"\"\"\n",
    "\n",
    "response = comprehend_client.detect_entities(\n",
    "    Text=text,\n",
    "    LanguageCode='en'\n",
    ")\n",
    "\n",
    "print(len(response['Entities']))\n",
    "pprint(response)"
   ]
  },
  {
   "cell_type": "markdown",
   "metadata": {},
   "source": [
    "In the response, we get a list of all detected entities, confidence score, type as well as indicies of starting and ending characters. In our example, Comprehend was able to "
   ]
  },
  {
   "cell_type": "code",
   "execution_count": null,
   "metadata": {},
   "outputs": [],
   "source": []
  }
 ],
 "metadata": {
  "kernelspec": {
   "display_name": "Python 3",
   "language": "python",
   "name": "python3"
  },
  "language_info": {
   "codemirror_mode": {
    "name": "ipython",
    "version": 3
   },
   "file_extension": ".py",
   "mimetype": "text/x-python",
   "name": "python",
   "nbconvert_exporter": "python",
   "pygments_lexer": "ipython3",
   "version": "3.6.4"
  }
 },
 "nbformat": 4,
 "nbformat_minor": 2
}
