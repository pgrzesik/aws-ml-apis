{
 "cells": [
  {
   "cell_type": "markdown",
   "metadata": {},
   "source": [
    "## Amazon Rekognition\n",
    "\n",
    "In following examples, I will show how by using boto3, we can interact with Rekognition service.\n",
    "\n",
    "We need to start with creating Rekognition client:"
   ]
  },
  {
   "cell_type": "code",
   "execution_count": 24,
   "metadata": {},
   "outputs": [],
   "source": [
    "import boto3\n",
    "\n",
    "session = boto3.session.Session()\n",
    "rekognition_client = session.client('rekognition')"
   ]
  },
  {
   "cell_type": "markdown",
   "metadata": {},
   "source": [
    "### Detecting labels - Kitten example\n",
    "\n",
    "In our first example, we will try to detect labels for the following picture:\n",
    "\n",
    "![werter](./werter.jpeg)\n",
    "\n",
    "To do that, we will use `detect_labels` method, which can accept image as a base64-encoded bytes or reference to image stored in S3 bucket. First, we will try to use our local image:"
   ]
  },
  {
   "cell_type": "code",
   "execution_count": 29,
   "metadata": {},
   "outputs": [
    {
     "name": "stdout",
     "output_type": "stream",
     "text": [
      "{'CelebrityFaces': [],\n",
      " 'OrientationCorrection': 'ROTATE_0',\n",
      " 'ResponseMetadata': {'HTTPHeaders': {'connection': 'keep-alive',\n",
      "                                      'content-length': '79',\n",
      "                                      'content-type': 'application/x-amz-json-1.1',\n",
      "                                      'date': 'Mon, 12 Mar 2018 21:16:21 GMT',\n",
      "                                      'x-amzn-requestid': '9bd3ae9d-263a-11e8-8187-2b691fd83f24'},\n",
      "                      'HTTPStatusCode': 200,\n",
      "                      'RequestId': '9bd3ae9d-263a-11e8-8187-2b691fd83f24',\n",
      "                      'RetryAttempts': 0},\n",
      " 'UnrecognizedFaces': []}\n"
     ]
    }
   ],
   "source": [
    "import base64\n",
    "import pprint\n",
    "    \n",
    "response = rekognition_client.recognize_celebrities(\n",
    "    Image={\n",
    "        'S3Object': {\n",
    "            'Bucket': 'aws-ml-apis',\n",
    "            'Name': 'rekognition/werter.jpeg'\n",
    "        }\n",
    "    }\n",
    ")\n",
    "pprint.pprint(response)"
   ]
  },
  {
   "cell_type": "code",
   "execution_count": null,
   "metadata": {},
   "outputs": [],
   "source": []
  }
 ],
 "metadata": {
  "kernelspec": {
   "display_name": "Python 3",
   "language": "python",
   "name": "python3"
  },
  "language_info": {
   "codemirror_mode": {
    "name": "ipython",
    "version": 3
   },
   "file_extension": ".py",
   "mimetype": "text/x-python",
   "name": "python",
   "nbconvert_exporter": "python",
   "pygments_lexer": "ipython3",
   "version": "3.6.4"
  }
 },
 "nbformat": 4,
 "nbformat_minor": 2
}
